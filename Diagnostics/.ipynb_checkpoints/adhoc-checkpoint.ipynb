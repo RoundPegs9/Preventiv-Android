{
 "cells": [
  {
   "cell_type": "code",
   "execution_count": null,
   "metadata": {},
   "outputs": [],
   "source": [
    "### Assumption : Confirmed_cases.csv exists in the working directory\n",
    "\n",
    "\n",
    "from selenium import webdriver\n",
    "import pandas as pd\n",
    "import os\n",
    "import re\n",
    "from selenium.webdriver import ActionChains\n",
    "from selenium.common.exceptions import NoSuchElementException  \n",
    "from selenium.webdriver.common.keys import Keys\n",
    "import time\n",
    "import numpy as np\n",
    "import random\n",
    "from datetime import datetime\n",
    "import collections"
   ]
  }
 ],
 "metadata": {
  "kernelspec": {
   "display_name": "Python 3",
   "language": "python",
   "name": "python3"
  },
  "language_info": {
   "codemirror_mode": {
    "name": "ipython",
    "version": 3
   },
   "file_extension": ".py",
   "mimetype": "text/x-python",
   "name": "python",
   "nbconvert_exporter": "python",
   "pygments_lexer": "ipython3",
   "version": "3.7.3"
  }
 },
 "nbformat": 4,
 "nbformat_minor": 2
}
